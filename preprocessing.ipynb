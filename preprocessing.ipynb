{
 "cells": [
  {
   "cell_type": "code",
   "execution_count": 1,
   "metadata": {},
   "outputs": [],
   "source": [
    "import pandas as pd\n",
    "import numpy as np\n",
    "import soundfile as sf\n",
    "import librosa"
   ]
  },
  {
   "cell_type": "code",
   "execution_count": 20,
   "metadata": {},
   "outputs": [
    {
     "data": {
      "text/html": [
       "<div>\n",
       "<style scoped>\n",
       "    .dataframe tbody tr th:only-of-type {\n",
       "        vertical-align: middle;\n",
       "    }\n",
       "\n",
       "    .dataframe tbody tr th {\n",
       "        vertical-align: top;\n",
       "    }\n",
       "\n",
       "    .dataframe thead th {\n",
       "        text-align: right;\n",
       "    }\n",
       "</style>\n",
       "<table border=\"1\" class=\"dataframe\">\n",
       "  <thead>\n",
       "    <tr style=\"text-align: right;\">\n",
       "      <th></th>\n",
       "      <th>start_time</th>\n",
       "      <th>end_time</th>\n",
       "      <th>word</th>\n",
       "    </tr>\n",
       "  </thead>\n",
       "  <tbody>\n",
       "    <tr>\n",
       "      <th>0</th>\n",
       "      <td>00:00:01.690000</td>\n",
       "      <td>00:00:02.770000</td>\n",
       "      <td>elephant</td>\n",
       "    </tr>\n",
       "    <tr>\n",
       "      <th>1</th>\n",
       "      <td>00:00:04.160000</td>\n",
       "      <td>00:00:05.100000</td>\n",
       "      <td>umbrella</td>\n",
       "    </tr>\n",
       "    <tr>\n",
       "      <th>2</th>\n",
       "      <td>00:00:06</td>\n",
       "      <td>00:00:06.760000</td>\n",
       "      <td>train</td>\n",
       "    </tr>\n",
       "    <tr>\n",
       "      <th>3</th>\n",
       "      <td>00:00:08.390000</td>\n",
       "      <td>00:00:09.220000</td>\n",
       "      <td>swing</td>\n",
       "    </tr>\n",
       "  </tbody>\n",
       "</table>\n",
       "</div>"
      ],
      "text/plain": [
       "       start_time        end_time      word\n",
       "0 00:00:01.690000 00:00:02.770000  elephant\n",
       "1 00:00:04.160000 00:00:05.100000  umbrella\n",
       "2        00:00:06 00:00:06.760000     train\n",
       "3 00:00:08.390000 00:00:09.220000     swing"
      ]
     },
     "execution_count": 20,
     "metadata": {},
     "output_type": "execute_result"
    }
   ],
   "source": [
    "df = pd.read_csv('data/ultrasuite/labels-uxtd-uxssd-upx/uxssd/word_labels/lab/01M-BL1-001A.lab', \n",
    "                 sep=\" \", \n",
    "                 header=None)\n",
    "df.columns = ['start_time', 'end_time', 'word']\n",
    "df['word'] = df['word'].str.lower()\n",
    "df['start_time'] = pd.to_timedelta(df['start_time'] * 100)\n",
    "df['end_time'] = pd.to_timedelta(df['end_time'] * 100)\n",
    "df.head()"
   ]
  },
  {
   "cell_type": "code",
   "execution_count": 23,
   "metadata": {},
   "outputs": [],
   "source": [
    "def extract_segments(y, sr, segments):\n",
    "    # compute segment regions in number of samples\n",
    "    starts = np.floor(segments.start_time.dt.total_seconds() * sr).astype(int)\n",
    "    ends = np.ceil(segments.end_time.dt.total_seconds() * sr).astype(int)\n",
    "    \n",
    "    file_path = 'data/transformed/'\n",
    "    \n",
    "    i = 0\n",
    "    # slice the audio into segments\n",
    "    for start, end in zip(starts, ends):\n",
    "        audio_seg = y[start:end]\n",
    "        print('extracting audio segment:', len(audio_seg), 'samples')\n",
    "        \n",
    "        file_name = file_path + str(segments.word[i]) + \".wav\"\n",
    "        \n",
    "        sf.write(file_name, audio_seg, sr)\n",
    "        i += 1"
   ]
  },
  {
   "cell_type": "code",
   "execution_count": 24,
   "metadata": {},
   "outputs": [
    {
     "name": "stdout",
     "output_type": "stream",
     "text": [
      "extracting audio segment: 23815 samples\n",
      "extracting audio segment: 20728 samples\n",
      "extracting audio segment: 16759 samples\n",
      "extracting audio segment: 18302 samples\n"
     ]
    }
   ],
   "source": [
    "path = 'data/ultrasuite/core-uxssd-sample/core/01M/BL1/001A.wav'\n",
    "y, sr = librosa.load(path, sr=22050)\n",
    "extract_segments(y, sr, df)"
   ]
  },
  {
   "cell_type": "code",
   "execution_count": 6,
   "metadata": {},
   "outputs": [
    {
     "data": {
      "text/plain": [
       "'0.10.3'"
      ]
     },
     "execution_count": 6,
     "metadata": {},
     "output_type": "execute_result"
    }
   ],
   "source": [
    "sf.__version__"
   ]
  },
  {
   "cell_type": "code",
   "execution_count": null,
   "metadata": {},
   "outputs": [],
   "source": []
  }
 ],
 "metadata": {
  "kernelspec": {
   "display_name": "Python [conda env:capstone-env] *",
   "language": "python",
   "name": "conda-env-capstone-env-py"
  },
  "language_info": {
   "codemirror_mode": {
    "name": "ipython",
    "version": 3
   },
   "file_extension": ".py",
   "mimetype": "text/x-python",
   "name": "python",
   "nbconvert_exporter": "python",
   "pygments_lexer": "ipython3",
   "version": "3.7.4"
  }
 },
 "nbformat": 4,
 "nbformat_minor": 2
}
