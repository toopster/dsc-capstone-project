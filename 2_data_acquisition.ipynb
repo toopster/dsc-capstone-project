{
 "cells": [
  {
   "cell_type": "markdown",
   "metadata": {},
   "source": [
    "# Data Acquisition"
   ]
  },
  {
   "cell_type": "markdown",
   "metadata": {},
   "source": [
    "<span style=\"padding-left: 28px;\">**<font size=4>Data Science - Capstone Project Submission</font>**</span>\n",
    "\n",
    "* Student Name: **James Toop**\n",
    "* Student Pace: **Self Paced**\n",
    "* Scheduled project review date/time: **29th October 2021 @ 21:30 BST**\n",
    "* Instructor name: **Jeff Herman / James Irving**\n",
    "* Blog URL: **https://toopster.github.io/**\n",
    "---"
   ]
  },
  {
   "cell_type": "markdown",
   "metadata": {},
   "source": [
    "**IMPORTANT NOTE:**\n",
    "\n",
    "This section presents code and instructions for downloading each dataset.\n",
    "\n",
    "The datasets and transformed JSON files have not been included in the GitHub repository with this notebook and will need to be downloaded and\n",
    "stored in the local repository for the code to run correctly.  \n",
    "\n",
    "The code below will however download and store the datasets. The [notebook](3_preprocessing.ipynb) entitled `3_preprocessing.ipynb` contains code for transforming the datasets as required for the models to run.\n",
    "\n",
    "To ensure ease of use, however, it is also possible to download the raw and transformed datasets using [this link](https://drive.google.com/file/d/11lKYIZiwEQJ-pp0G1bJPHXLJLj8uKPqW/view?usp=sharing)."
   ]
  },
  {
   "cell_type": "code",
   "execution_count": 1,
   "metadata": {},
   "outputs": [],
   "source": [
    "# Import required libraries and modules for data acquisition\n",
    "import pandas as pd\n",
    "import numpy as np\n",
    "import matplotlib.pyplot as plt\n",
    "import seaborn as sns\n",
    "import tensorflow as tf\n",
    "\n",
    "import os\n",
    "import pathlib\n",
    "from pathlib import Path\n",
    "import shutil"
   ]
  },
  {
   "cell_type": "markdown",
   "metadata": {},
   "source": [
    "## Download Speech Commands dataset"
   ]
  },
  {
   "cell_type": "markdown",
   "metadata": {},
   "source": [
    "A dataset for limited-vocabulary speech recognition by Pete Warden, TensorFlow team at Google.\n",
    "\n",
    "https://arxiv.org/abs/1804.03209\n",
    "\n",
    "The Speech Commands dataset is an attempt to build a standard training and evaluation dataset for a class of simple speech recognition tasks. Its primary goal is to provide a way to build and test small models that detect when a single word is spoken, from a set of ten or fewer target words, with as few false background noise or unrelated speech."
   ]
  },
  {
   "cell_type": "code",
   "execution_count": 2,
   "metadata": {},
   "outputs": [],
   "source": [
    "def download_speech_commands():    \n",
    "    '''\n",
    "    Code adapted from Simple audio recognition: Recognizing keywords\n",
    "    https://www.tensorflow.org/tutorials/audio/simple_audio\n",
    "    \n",
    "    Downloads and unpacks the speech commands dataset, removing any \n",
    "    unnecessary files\n",
    "    '''   \n",
    "    data_dir = pathlib.Path('data/speech_commands_v0.02')\n",
    "    origin = 'http://download.tensorflow.org/data/speech_commands_v0.02.tar.gz'\n",
    "    \n",
    "    # Check to see if data directory already exists, download if not\n",
    "    if not data_dir.exists():\n",
    "        tf.keras.utils.get_file(\n",
    "            'speech_commands_v0.02.zip',\n",
    "            origin=origin,\n",
    "            extract=True,\n",
    "            cache_dir='.',\n",
    "            cache_subdir='data/speech_commands_v0.02')\n",
    "    else:\n",
    "        print('Speech Commands dataset already exists')\n",
    "        \n",
    "    # Remove the _background_noise_ samples as these are not required\n",
    "    try:\n",
    "        shutil.rmtree(str(data_dir) + '/_background_noise_')\n",
    "    except OSError as e:\n",
    "        print('Error: %s - %s.' % (e.filename, e.strerror),\n",
    "              'Check if directory has already been removed.')\n",
    "    \n",
    "    \n",
    "    # Remove the extracted zip file for politeness as this is not required\n",
    "    zip_file = str(data_dir) + '/speech_commands_v0.02.zip'\n",
    "    if os.path.exists(zip_file):\n",
    "        os.remove(zip_file)"
   ]
  },
  {
   "cell_type": "code",
   "execution_count": 3,
   "metadata": {},
   "outputs": [
    {
     "name": "stdout",
     "output_type": "stream",
     "text": [
      "Downloading data from http://download.tensorflow.org/data/speech_commands_v0.02.tar.gz\n",
      "2428928000/2428923189 [==============================] - 160s 0us/step\n",
      "2428936192/2428923189 [==============================] - 160s 0us/step\n"
     ]
    }
   ],
   "source": [
    "# Call the function to download the Speech Commands v0.02 dataset\n",
    "download_speech_commands()"
   ]
  },
  {
   "cell_type": "markdown",
   "metadata": {},
   "source": [
    "## Download the Ultrasuite dataset"
   ]
  },
  {
   "cell_type": "markdown",
   "metadata": {},
   "source": [
    "A collection of ultrasound and acoustic speech data from child speech therapy sessions – University of Edinburgh, School of Infomatics\n",
    "\n",
    "https://ultrasuite.github.io/\n",
    "\n",
    "Ultrasuite is a collection of ultrasound and acoustic speech data from child speech therapy sessions. The current release includes three datasets, one from typically developing children and two from speech disordered children:\n",
    "\n",
    "* **[Ultrax Typically Developing (UXTD)](https://ultrasuite.github.io/data/uxtd/)** -  A dataset of 58 typically developing children. \n",
    "* **[Ultrax Speech Sound Disorders (UXSSD)](https://ultrasuite.github.io/data/uxssd/)** - A dataset of 8 children with speech sound disorders. \n",
    "* **[UltraPhonix (UPX)](https://ultrasuite.github.io/data/upx/)** - A second dataset of children with speech sound disorders, collected from 20 children.\n",
    "\n",
    "<small>\n",
    "<strong>Source:</strong><br/>\n",
    "Eshky, A., Ribeiro, M. S., Cleland, J., Richmond, K., Roxburgh, Z., Scobbie, J., & Wrench, A. (2018) Ultrasuite: A repository of ultrasound and acoustic data from child speech therapy sessions. Proceedings of INTERSPEECH. Hyderabad, India. [<a target=\"_blank\" href=\"https://ultrasuite.github.io/papers/ultrasuite_IS18.pdf\">paper</a>]\n",
    "</small>"
   ]
  },
  {
   "cell_type": "code",
   "execution_count": 4,
   "metadata": {},
   "outputs": [],
   "source": [
    "# Function for downloading the Ultrasuite datasets\n",
    "def download_ultrasuite(datasets):\n",
    "    '''\n",
    "    Sets up a remote sync for the Ultrasuite datasets and labels \n",
    "        \n",
    "        Params:\n",
    "            datasets (list): Specific ultrasuite dataset to sync can be\n",
    "                             'upx', 'uxtd' or 'uxssd'\n",
    "            \n",
    "    '''    \n",
    "    orig_loc = Path.cwd()\n",
    "    data_dir = pathlib.Path('data/ultrasuite')\n",
    "    \n",
    "    # Check to see if data directory already exists, download if not\n",
    "    if not os.path.isdir(data_dir):\n",
    "        os.makedirs(data_dir)\n",
    "        \n",
    "        # Change working directory\n",
    "        os.chdir(data_dir)\n",
    "        \n",
    "        for dataset in datasets:\n",
    "            rsync_data = 'rsync -av --include=\"*/\" --include=\"*.wav\" \\\n",
    "            --exclude=\"*\" ultrasuite-rsync.inf.ed.ac.uk::ultrasuite/core-'\n",
    "            os.system(rsync_data + dataset + ' .')\n",
    "            print(dataset, 'dataset has been downloaded.')\n",
    "        \n",
    "        rsync_labels = 'rsync -av \\\n",
    "        ultrasuite-rsync.inf.ed.ac.uk::ultrasuite/labels-uxtd-uxssd-upx .'\n",
    "        os.system(rsync_labels)\n",
    "        print('The ultrasuite labels have been downloaded.')\n",
    "        \n",
    "        # Change working directory back\n",
    "        os.chdir(orig_loc)"
   ]
  },
  {
   "cell_type": "code",
   "execution_count": 5,
   "metadata": {},
   "outputs": [
    {
     "name": "stdout",
     "output_type": "stream",
     "text": [
      "upx dataset has been downloaded.\n",
      "uxtd dataset has been downloaded.\n",
      "uxssd dataset has been downloaded.\n",
      "The ultrasuite labels have been downloaded.\n"
     ]
    }
   ],
   "source": [
    "# Download the Ultrasuite datasets\n",
    "download_ultrasuite(['upx', 'uxtd', 'uxssd'])"
   ]
  },
  {
   "cell_type": "markdown",
   "metadata": {},
   "source": [
    "<hr size=\"1\" />\n",
    "<small>\n",
    "<strong>Sources / Code adapted from:</strong><br/>\n",
    "    * <a href=\"https://www.tensorflow.org/tutorials/audio/simple_audio\" target=\"_new\">Simple audio recognition: Recognizing keywords - Tensorflow</a><br/>\n",
    "</small>"
   ]
  }
 ],
 "metadata": {
  "kernelspec": {
   "display_name": "Python [conda env:capstone-env] *",
   "language": "python",
   "name": "conda-env-capstone-env-py"
  },
  "language_info": {
   "codemirror_mode": {
    "name": "ipython",
    "version": 3
   },
   "file_extension": ".py",
   "mimetype": "text/x-python",
   "name": "python",
   "nbconvert_exporter": "python",
   "pygments_lexer": "ipython3",
   "version": "3.7.4"
  },
  "toc": {
   "base_numbering": "2",
   "nav_menu": {},
   "number_sections": true,
   "sideBar": true,
   "skip_h1_title": false,
   "title_cell": "Table of Contents",
   "title_sidebar": "Contents",
   "toc_cell": false,
   "toc_position": {},
   "toc_section_display": true,
   "toc_window_display": false
  }
 },
 "nbformat": 4,
 "nbformat_minor": 2
}
