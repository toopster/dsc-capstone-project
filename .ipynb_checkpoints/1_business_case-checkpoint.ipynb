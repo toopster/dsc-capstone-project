{
 "cells": [
  {
   "cell_type": "markdown",
   "metadata": {},
   "source": [
    "#1: Business Case, Project Purpose and Approach\n",
    "# Data Science - Capstone Project Submission \n",
    "\n",
    "\n",
    "* Student Name: **James Toop**\n",
    "* Student Pace: **Self Paced**\n",
    "* Scheduled project review date/time: **29th October 2021 @ 21:30 BST**\n",
    "* Instructor name: **Jeff Herman / James Irving**\n",
    "* Blog URL: **https://toopster.github.io/**\n",
    "\n",
    "---"
   ]
  },
  {
   "cell_type": "markdown",
   "metadata": {},
   "source": [
    "## Table of Contents\n",
    "1. [Business Case, Project Purpose and Approach](#business-case)\n",
    "    1. [The importance of communication for people with severe learning disabilities](#communication-and-learning-disabilities)\n",
    "    2. [Types of communication](#types-of-communication)\n",
    "    3. [Communication techniques for people with learning disabilities](#communication-techniques)\n",
    "    4. [Project purpose](#project-purpose)\n",
    "    5. [Approach](#approach)\n",
    "2. [Exploratory Data Analysis](2_eda.ipynb#eda)\n",
    "    1. [The Datasets](2_eda.ipynb#the-datasets)\n",
    "    2. [Discovery](2_eda.ipynb#data-discovery)\n",
    "    3. [Preprocessing - Stage One](2_eda.ipynb#data-preprocessing-stage-one)\n",
    "3. [Deep Learning Models](3_deep_learning_models.ipynb#deep-learning-models)\n",
    "    1. [Preprocessing - Stage Two](3_deep_learning_models.ipynb#data-preprocessing-stage-two)\n",
    "    2. [Initial Model Using Spectrograms](3_deep_learning_models.ipynb#model-1)\n",
    "    3. [Advanced Model using MFCC's](3_deep_learning_models.ipynb#model-2)\n",
    "4. [Final Model Performance Evaluation](#final-model-performance-evaluation)"
   ]
  },
  {
   "cell_type": "markdown",
   "metadata": {},
   "source": [
    "---\n",
    "<a name=\"business-case\"></a>\n",
    "## 1. Business Case, Project Purpose and Approach\n",
    "\n",
    "\n",
    "<a name=\"communication-and-learning-disabilities\"></a>\n",
    "### 1A.  The importance of communication for people with severe learning disabilities\n",
    "\n",
    "Communication is vital in ensuring that people can express themselves, control their environment and make sense of the world around them.\n",
    "\n",
    "This is equally if not more important when that person has a learning disability and may not be able to interpret their environment as easily as others.\n",
    "\n",
    "Communicating with children and young people who have a severe learning disability can be extremely challenging, if a child is not able to communicate by traditional methods they may become frustrated and use behaviours that might be seen as challenging. \n",
    "\n",
    "For example, in self-harm behaviour, the child may be wanting to communicate that they are in pain or discomfort or that they are hungry, thirsty etc. If the behaviour is effective in getting what the child needs it is more likely to be repeated.\n",
    "\n",
    "With adequately supporte communication, the child will be better able to: \n",
    "\n",
    "* Express their needs, feelings or opinions.\n",
    "* Make choices.\n",
    "* Interact with others and form relationships.\n",
    "* Develop skills which will help them access learning opportunities.\n",
    "\n",
    "<img src=\"images/communication-is-vital.png\" title=\"The importance of communication\" width=\"80%\"/>"
   ]
  },
  {
   "cell_type": "markdown",
   "metadata": {},
   "source": [
    "<a name=\"types-of-communication\"></a>\n",
    "### 1B.  Types of communication\n",
    "\n",
    "There are various forms and stages of communication but, broadly speaking, communication can be split into two types:\n",
    "\n",
    "#### Expressive Language\n",
    "\n",
    "Expressive language is the use of words to form sentences in order to communicate with other people. \n",
    "\n",
    "Difficulties in using expressive language to communicate can range from experiencing difficulties putting words in the right order to being unable to form words in a meaningful way that others can understand. \n",
    "\n",
    "When someone is unable to make use of expressive language, it can lead to frustration at not being able to express their needs and difficulty interacting with other people.\n",
    "    \n",
    "    \n",
    "#### Receptive Language\n",
    "\n",
    "Receptive language is the understanding of expressive language. The use of receptive language is not dependent on being able to use expressive language. Some people may not be able to form words and sentences themselves, but are able to understand expressive language when it is used by others.\n",
    "\n",
    "This can range from being able to easily understand what others say, to being able to only understand key words and phrases, and then only when they are spoken clearly and slowly. Everyone is different; some people may be able to use both receptive and expressive language to different degrees, whilst others may be able to use one or neither."
   ]
  },
  {
   "cell_type": "markdown",
   "metadata": {},
   "source": [
    "<a name=\"communication-techniques\"></a>\n",
    "### 1C. Communication techniques for people with learning disabilities\n",
    "\n",
    "Some people with learning disabilities have difficulties communicating with others when solely making use of expressive and receptive language. \n",
    "\n",
    "There are a variety of other techniques which have been developed to help support people for whom speech is difficult, for example:\n",
    "\n",
    "* Communication systems such as <a href=\"https://makaton.org/\" target=\"_new\">Makaton</a> (based on British sign language) or <a href=\"https://pecs-unitedkingdom.com/pecs/\" target=\"_new\">PECS</a> (Picture Exchange communication system)\n",
    "* Easy read symbols\n",
    "* Speech and language therapy\n",
    "\n",
    "<img src=\"images/makaton-pecs-symbols.png\" title=\"Examples of Makaton signing and PECS\" width=\"80%\" />\n",
    "\n",
    "People with learning disabilities often interpret body language and non-verbal communication in understanding simple everyday interactions. \n",
    "\n",
    "It is essential when communicating with someone with a learning disability to give them time to take in what is being said, and to communicate more slowly than you may normally in order to allow them to process what it is that you are communicating.\n",
    "\n",
    "It is often hard to know what support is available to help people with learning disabilities communicate more easily.\n",
    "\n",
    "Using visual guides or cues to aide communication is one important way of supporting people to have a greater understanding of what is being conveyed to them."
   ]
  },
  {
   "cell_type": "markdown",
   "metadata": {},
   "source": [
    "<a name=\"project-purpose\"></a>\n",
    "### 1D. Project purpose\n",
    "\n",
    "<br><font size=\"4\">Meet Martha...</font>\n",
    "\n",
    "<img src=\"images/martha-says-hello.jpeg\" title=\"Martha says hello\" width=\"35%\" style=\"float: left; padding-right: 30px;\"/>\n",
    "\n",
    "My daughter Martha has a rare genetic syndrome, called Jacobsen's Syndrome, as a result of her missing over 14 million pieces of genetic material on her eleventh chromosome.  \n",
    "\n",
    "Martha was born with a large ventricular septal defect, a duplex kidney and a bleeding disorder. She has global development delay which has significantly affected her progress towards reaching milestones associated with typical child development such as walking and talking.\n",
    "\n",
    "---\n",
    "\n",
    "The purpose of this project is to use Data Science and deep learning techniques to build a model that can suitably classify audio samples from an individual with a speech disorder or with a severe learning disability that impacts speech.\n",
    "\n",
    "The eventual aim being a tool or app that helps parents of children with a speech disorder or severe learning disability support their child's communication.  \n",
    "\n",
    "Parents would be able to use the app, installed on a mobile device, to record their child speaking and receiving suggestions as to the word that the child is trying to voice, similar to the [Google Recorder app](https://recorder.withgoogle.com/) but that was specifically trained and configured for atypical speech.\n",
    "\n",
    "Beyond this, the app would also present an opportunity for parents to add to the dataset by submitting anonymised, labelled audio samples of their child speaking."
   ]
  },
  {
   "cell_type": "markdown",
   "metadata": {},
   "source": [
    "<a name=\"approach\"></a>\n",
    "### 1E. Approach\n",
    "\n",
    "Classification using big data struggles to cope with the individual uniqueness of disabled people, and while developers tend to design for the majority, so ignoring outliers, designing for edge cases would be a more inclusive approach.\n",
    "\n",
    "Whilst similar to <a href=\"https://sites.research.google/euphonia/about/\" target=\"_new\">Project Euphonia by Google AI</a> which is focused on \"on helping people with atypical speech be better understood\" and providing more equitable access to voice activated technology for users with a speech disability, this project will focus more on understanding and interpreting single words rather than whole sentences for the simple reason that most of the affected children will not be able to speak in full sentences and will have a limited vocabulary.  It also also specifically aimed at parents or carers rather than the child themselves.\n",
    "\n",
    "We will be using two datasets for the purpose of this project. (More detailed information can be found in the [exploratory data analysis](2_eda.ipynb) section.\n",
    "\n",
    "* [Speech Commands: A dataset for limited-vocabulary speech recognition](https://arxiv.org/abs/1804.03209)\n",
    "* [Ultrasuite: A collection of ultrasound and acoustic speech data from child speech therapy sessions](https://ultrasuite.github.io/)\n",
    "\n",
    "The initial plan was to use both  the Speech Commands dataset combined with the Ultrasuite dataset to train each model but, after some testing and additional research, it was decided to use the Speech Commands dataset to create a \"control\" model against which the model based on the Ultrasuite data could be compared.  This decision was principally so as not to introduce a \"typical speech bias\" into the final model."
   ]
  },
  {
   "cell_type": "markdown",
   "metadata": {},
   "source": [
    "<hr size=\"1\" />\n",
    "<small>\n",
    "<strong>Sources:</strong><br/>\n",
    "    * <a href=\"https://www.learningdisabilities.org.uk/\" target=\"_new\">Foundation for People with Learning Disabilities</a><br/>\n",
    "    * <a href=\"https://www.nhs.uk/\" target=\"_new\">National Health Service (NHS) UK</a><br/>\n",
    "    * <a href=\"https://www.mefirst.org.uk/\" target=\"_new\">Me First: Helping health and care professionals communicate more effectively with children and young people</a><br/>        \n",
    "    * <a href=\"https://sites.research.google/euphonia/about/\">Project Euphonia (by Google AI)</a><br/>\n",
    "    * <a href=\"https://ai.googleblog.com/2019/08/project-euphonias-personalized-speech.html\" target=\"_new\">Google AI Blog - Project Euphonia’s Personalized Speech Recognition for Non-Standard Speech</a><br/>\n",
    "\n",
    "</small>"
   ]
  }
 ],
 "metadata": {
  "kernelspec": {
   "display_name": "Python [conda env:capstone-env] *",
   "language": "python",
   "name": "conda-env-capstone-env-py"
  },
  "language_info": {
   "codemirror_mode": {
    "name": "ipython",
    "version": 3
   },
   "file_extension": ".py",
   "mimetype": "text/x-python",
   "name": "python",
   "nbconvert_exporter": "python",
   "pygments_lexer": "ipython3",
   "version": "3.7.4"
  }
 },
 "nbformat": 4,
 "nbformat_minor": 2
}
